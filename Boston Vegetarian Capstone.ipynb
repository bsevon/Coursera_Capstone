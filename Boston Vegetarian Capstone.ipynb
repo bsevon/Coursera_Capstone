{
 "cells": [
  {
   "cell_type": "markdown",
   "metadata": {},
   "source": [
    "# **Introduction**"
   ]
  },
  {
   "cell_type": "markdown",
   "metadata": {},
   "source": [
    "Boston has a population of over 600,000 people and a large population in the Greater Boston area of almost 5 million people. \n",
    "With such a population, restaurants always are busy and there is a large variety throughout the area. Many of these restaurants serve meat, so finding and getting into a high end vegetarian restaurant can always be problematic.\n",
    "\n",
    "In this project, we will explore venues in Boston Massachusetts based on their rating and average prices. \n",
    "The objective here is to identify a good neighborhood in the Boston area to build a high end vegetarian restaurant. We will \n",
    "identify neighborhoods that do not have many vegetarian restaurants, low ratings, and higher average prices. The places we will identify are fit for various individuals based on the data collected from the Foursquare API along with the Demographic breakdown by ZIP Code from (https://en.wikipedia.org/wiki/Boston)"
   ]
  },
  {
   "cell_type": "markdown",
   "metadata": {},
   "source": [
    "# **Data Discussion**"
   ]
  },
  {
   "cell_type": "markdown",
   "metadata": {},
   "source": [
    "1. The data from was scraped from https://en.wikipedia.org/wiki/Boston. The table be used is under the \"Demographic breakdown by ZIP Code\" section. We used this to identify the different zipcodes throughout the Boston area, along with per capita income.\n",
    "\n",
    "\n",
    "2. The Foursquare API data collected pertains to ratings, restauarants and categories as we are focusing on vegatarian restauraunts."
   ]
  }
 ],
 "metadata": {
  "kernelspec": {
   "display_name": "Python 3",
   "language": "python",
   "name": "python3"
  },
  "language_info": {
   "codemirror_mode": {
    "name": "ipython",
    "version": 3
   },
   "file_extension": ".py",
   "mimetype": "text/x-python",
   "name": "python",
   "nbconvert_exporter": "python",
   "pygments_lexer": "ipython3",
   "version": "3.7.3"
  }
 },
 "nbformat": 4,
 "nbformat_minor": 2
}
